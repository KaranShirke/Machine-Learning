{
 "cells": [
  {
   "cell_type": "code",
   "execution_count": 23,
   "id": "378404ee",
   "metadata": {},
   "outputs": [],
   "source": [
    "import random\n",
    "from typing import List"
   ]
  },
  {
   "cell_type": "code",
   "execution_count": 51,
   "id": "27307420",
   "metadata": {},
   "outputs": [],
   "source": [
    "class SampleEnvironment:\n",
    "    def __init__(self):\n",
    "        self.step_left = 10\n",
    "    \n",
    "    def get_observation(self) -> List[float]:\n",
    "        return [0.0, 0.0, 0.0]\n",
    "    \n",
    "    def get_actions(self) -> List[int]:\n",
    "        return [0, 1]\n",
    "     \n",
    "    def is_done(self) -> bool:\n",
    "        return self.step_left == 0\n",
    "    \n",
    "    def action(self, action:int) -> float:\n",
    "        if self.is_done():\n",
    "            raise Exception(\"Game is Over!\")\n",
    "        self.step_left -= 1\n",
    "        return random.random()"
   ]
  },
  {
   "cell_type": "code",
   "execution_count": 52,
   "id": "4439f4b3",
   "metadata": {},
   "outputs": [],
   "source": [
    "class Agent:\n",
    "    def __init__(self):\n",
    "        self.total_reward = 0\n",
    "        \n",
    "    def step(self, env: SampleEnvironment):\n",
    "        current_obs = env.get_observation()\n",
    "        print(current_obs)\n",
    "        actions = env.get_actions()\n",
    "        print(actions)\n",
    "        reward = env.action(random.choice(actions))\n",
    "        self.total_reward += reward\n",
    "        print(\"Total reward: {}\" .format(self.total_reward))"
   ]
  },
  {
   "cell_type": "code",
   "execution_count": 53,
   "id": "4e6a1615",
   "metadata": {},
   "outputs": [
    {
     "name": "stdout",
     "output_type": "stream",
     "text": [
      "Step 1\n",
      "[0.0, 0.0, 0.0]\n",
      "[0, 1]\n",
      "Total reward: 0.26922297954752283\n",
      "Step 2\n",
      "[0.0, 0.0, 0.0]\n",
      "[0, 1]\n",
      "Total reward: 0.5022876867083488\n",
      "Step 3\n",
      "[0.0, 0.0, 0.0]\n",
      "[0, 1]\n",
      "Total reward: 1.173137339728719\n",
      "Step 4\n",
      "[0.0, 0.0, 0.0]\n",
      "[0, 1]\n",
      "Total reward: 1.3401071798331536\n",
      "Step 5\n",
      "[0.0, 0.0, 0.0]\n",
      "[0, 1]\n",
      "Total reward: 2.009175158745827\n",
      "Step 6\n",
      "[0.0, 0.0, 0.0]\n",
      "[0, 1]\n",
      "Total reward: 2.3955588243998283\n",
      "Step 7\n",
      "[0.0, 0.0, 0.0]\n",
      "[0, 1]\n",
      "Total reward: 2.82152449863632\n",
      "Step 8\n",
      "[0.0, 0.0, 0.0]\n",
      "[0, 1]\n",
      "Total reward: 3.587700851244051\n",
      "Step 9\n",
      "[0.0, 0.0, 0.0]\n",
      "[0, 1]\n",
      "Total reward: 3.7131145807085675\n",
      "Step 10\n",
      "[0.0, 0.0, 0.0]\n",
      "[0, 1]\n",
      "Total reward: 4.702335485251574\n",
      "Total reward got: 4.7023\n"
     ]
    }
   ],
   "source": [
    "if __name__ == \"__main__\":\n",
    "    env = SampleEnvironment()\n",
    "    agent = Agent()\n",
    "    i=0\n",
    "    \n",
    "    while not env.is_done():\n",
    "        i += 1\n",
    "        print(\"Step {}\".format(i))\n",
    "        agent.step(env)\n",
    "        \n",
    "    print(\"Total reward got: %.4f\" % agent.total_reward)"
   ]
  },
  {
   "cell_type": "code",
   "execution_count": null,
   "id": "64f4ad6c",
   "metadata": {},
   "outputs": [],
   "source": []
  }
 ],
 "metadata": {
  "kernelspec": {
   "display_name": "Python 3 (ipykernel)",
   "language": "python",
   "name": "python3"
  },
  "language_info": {
   "codemirror_mode": {
    "name": "ipython",
    "version": 3
   },
   "file_extension": ".py",
   "mimetype": "text/x-python",
   "name": "python",
   "nbconvert_exporter": "python",
   "pygments_lexer": "ipython3",
   "version": "3.9.7"
  }
 },
 "nbformat": 4,
 "nbformat_minor": 5
}
